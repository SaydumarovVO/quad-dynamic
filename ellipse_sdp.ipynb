{
  "cells": [
    {
      "cell_type": "code",
      "execution_count": 10,
      "metadata": {
        "collapsed": true,
        "pycharm": {
          "is_executing": false
        }
      },
      "outputs": [
        {
          "name": "stdout",
          "text": [
            "[ 0.00e+00  0.00e+00  0.00e+00  0.00e+00  1.00e+00  0.00e+00  0.00e+00 ... ]\n[ 0.00e+00  0.00e+00  0.00e+00  0.00e+00  0.00e+00  1.00e+00  0.00e+00 ... ]\n[ 0.00e+00  0.00e+00  0.00e+00  0.00e+00  0.00e+00  0.00e+00  1.00e+00 ... ]\n[ 0.00e+00  0.00e+00  0.00e+00  0.00e+00  0.00e+00  0.00e+00  0.00e+00 ... ]\n[ 0.00e+00  0.00e+00  0.00e+00  0.00e+00  0.00e+00  0.00e+00  0.00e+00 ... ]\n[ 0.00e+00  0.00e+00  0.00e+00  0.00e+00  0.00e+00  0.00e+00  0.00e+00 ... ]\n[ 0.00e+00  0.00e+00  0.00e+00  0.00e+00  0.00e+00  0.00e+00  0.00e+00 ... ]\n[ 0.00e+00  0.00e+00  0.00e+00  0.00e+00  0.00e+00  0.00e+00  0.00e+00 ... ]\n\n[ 0.00e+00  0.00e+00  0.00e+00  0.00e+00]\n[ 0.00e+00  0.00e+00  0.00e+00  0.00e+00]\n[ 0.00e+00  0.00e+00  0.00e+00  0.00e+00]\n[ 0.00e+00  0.00e+00  0.00e+00  0.00e+00]\n[ 1.00e+00  0.00e+00  0.00e+00  0.00e+00]\n[ 0.00e+00  1.00e+00  0.00e+00  0.00e+00]\n[ 0.00e+00  0.00e+00  1.00e+00  0.00e+00]\n[ 0.00e+00  0.00e+00  0.00e+00  1.00e+00]\n\n"
          ],
          "output_type": "stream"
        }
      ],
      "source": "from cvxopt import matrix, spdiag\nimport numpy.matlib\n\ndiagBlock \u003d spdiag([1, 1, 1, 1])\nzeroesBlock \u003d matrix(numpy.matlib.zeros((4, 4)))\n\nA \u003d matrix([[zeroesBlock, zeroesBlock], [diagBlock, zeroesBlock]])\nprint(A)\n\nB \u003d matrix([zeroesBlock, diagBlock])\n\nprint(B)"
    }
  ],
  "metadata": {
    "language_info": {
      "codemirror_mode": {
        "name": "ipython",
        "version": 2
      },
      "file_extension": ".py",
      "mimetype": "text/x-python",
      "name": "python",
      "nbconvert_exporter": "python",
      "pygments_lexer": "ipython2",
      "version": "2.7.6"
    },
    "kernelspec": {
      "name": "python3",
      "language": "python",
      "display_name": "Python 3"
    }
  },
  "nbformat": 4,
  "nbformat_minor": 0
}