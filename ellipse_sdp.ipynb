{
  "cells": [
    {
      "cell_type": "code",
      "execution_count": 1,
      "metadata": {
        "collapsed": true,
        "pycharm": {
          "is_executing": false
        }
      },
      "outputs": [
        {
          "name": "stdout",
          "text": [
            "Initial conditions are:\n\nA \u003d  [ 0.00e+00  0.00e+00  0.00e+00  0.00e+00  1.00e+00  0.00e+00  0.00e+00 ... ]\n[ 0.00e+00  0.00e+00  0.00e+00  0.00e+00  0.00e+00  1.00e+00  0.00e+00 ... ]\n[ 0.00e+00  0.00e+00  0.00e+00  0.00e+00  0.00e+00  0.00e+00  1.00e+00 ... ]\n[ 0.00e+00  0.00e+00  0.00e+00  0.00e+00  0.00e+00  0.00e+00  0.00e+00 ... ]\n[ 0.00e+00  0.00e+00  0.00e+00  0.00e+00  0.00e+00  0.00e+00  0.00e+00 ... ]\n[ 0.00e+00  0.00e+00  0.00e+00  0.00e+00  0.00e+00  0.00e+00  0.00e+00 ... ]\n[ 0.00e+00  0.00e+00  0.00e+00  0.00e+00  0.00e+00  0.00e+00  0.00e+00 ... ]\n[ 0.00e+00  0.00e+00  0.00e+00  0.00e+00  0.00e+00  0.00e+00  0.00e+00 ... ]\n\nB \u003d  [ 0.00e+00  0.00e+00  0.00e+00  0.00e+00]\n[ 0.00e+00  0.00e+00  0.00e+00  0.00e+00]\n[ 0.00e+00  0.00e+00  0.00e+00  0.00e+00]\n[ 0.00e+00  0.00e+00  0.00e+00  0.00e+00]\n[ 1.00e+00  0.00e+00  0.00e+00  0.00e+00]\n[ 0.00e+00  1.00e+00  0.00e+00  0.00e+00]\n[ 0.00e+00  0.00e+00  1.00e+00  0.00e+00]\n[ 0.00e+00  0.00e+00  0.00e+00  1.00e+00]\n\nbeta \u003d 1000 mu \u003d 1\nControllability matrix rank is: 8\n---------------------\noptimization problem (LP):\n68 variables, 656 affine constraints\n\nP \t: (8, 8), symmetric\nY \t: (4, 8), continuous\n\n\tmaximize trace(P)\nsuch that\n  [A·P + P·Aᵀ + B·Y + Yᵀ·Bᵀ, P; P, -I8/beta] ≤ 0 (first_constr)\n  [A·P + P·Aᵀ + mu·(B·Y + Yᵀ·Bᵀ), P; P, -I8/beta] ≤ 0 (second_constr)\n  [P, Yᵀ; Y, I4/(mu·mu)] ≥ 0 (third_constr)\n---------------------\n\nThe optimal P is:\n[ 1.49e-12 -2.33e-12 -2.33e-12 -2.33e-12 -1.43e-13 -1.43e-13 -1.43e-13 ... ]\n[-2.33e-12  1.49e-12 -2.33e-12 -2.33e-12 -1.43e-13 -1.43e-13 -1.43e-13 ... ]\n[-2.33e-12 -2.33e-12  1.49e-12 -2.33e-12 -1.43e-13 -1.43e-13 -1.43e-13 ... ]\n[-2.33e-12 -2.33e-12 -2.33e-12  1.49e-12 -1.43e-13 -1.43e-13 -1.43e-13 ... ]\n[-1.43e-13 -1.43e-13 -1.43e-13 -1.43e-13  3.20e-13 -8.16e-13 -8.16e-13 ... ]\n[-1.43e-13 -1.43e-13 -1.43e-13 -1.43e-13 -8.16e-13  3.20e-13 -8.16e-13 ... ]\n[-1.43e-13 -1.43e-13 -1.43e-13 -1.43e-13 -8.16e-13 -8.16e-13  3.20e-13 ... ]\n[-1.43e-13 -1.43e-13 -1.43e-13 -1.43e-13 -8.16e-13 -8.16e-13 -8.16e-13 ... ]\n\nThe optimal Y is:\n[-2.70e-12 -2.37e-12 -2.37e-12 -2.37e-12 -1.27e-12 -1.27e-12 -1.27e-12 ... ]\n[-2.37e-12 -2.70e-12 -2.37e-12 -2.37e-12 -1.27e-12 -1.27e-12 -1.27e-12 ... ]\n[-2.37e-12 -2.37e-12 -2.70e-12 -2.37e-12 -1.27e-12 -1.27e-12 -1.27e-12 ... ]\n[-2.37e-12 -2.37e-12 -2.37e-12 -2.70e-12 -1.27e-12 -1.27e-12 -1.27e-12 ... ]\n\nInverse P is:\n[[ 1.49726695e+11 -1.12387873e+11 -1.12387873e+11 -1.12387873e+11\n   1.25665636e+10  1.25665636e+10  1.25665636e+10  1.25665636e+10]\n [-1.12387873e+11  1.49726695e+11 -1.12387873e+11 -1.12387873e+11\n   1.25665636e+10  1.25665636e+10  1.25665636e+10  1.25665636e+10]\n [-1.12387873e+11 -1.12387873e+11  1.49726695e+11 -1.12387873e+11\n   1.25665636e+10  1.25665636e+10  1.25665636e+10  1.25665636e+10]\n [-1.12387873e+11 -1.12387873e+11 -1.12387873e+11  1.49726695e+11\n   1.25665636e+10  1.25665636e+10  1.25665636e+10  1.25665636e+10]\n [ 1.25665636e+10  1.25665636e+10  1.25665636e+10  1.25665636e+10\n   5.39461402e+11 -3.40988226e+11 -3.40988226e+11 -3.40988226e+11]\n [ 1.25665636e+10  1.25665636e+10  1.25665636e+10  1.25665636e+10\n  -3.40988226e+11  5.39461402e+11 -3.40988226e+11 -3.40988226e+11]\n [ 1.25665636e+10  1.25665636e+10  1.25665636e+10  1.25665636e+10\n  -3.40988226e+11 -3.40988226e+11  5.39461402e+11 -3.40988226e+11]\n [ 1.25665636e+10  1.25665636e+10  1.25665636e+10  1.25665636e+10\n  -3.40988226e+11 -3.40988226e+11 -3.40988226e+11  5.39461402e+11]]\nOptimal K is:\n[[0.32999948 0.41668253 0.41668253 0.41668253 0.49281211 0.49281211\n  0.49281211 0.49281211]\n [0.41668253 0.32999948 0.41668253 0.41668253 0.49281211 0.49281211\n  0.49281211 0.49281211]\n [0.41668253 0.41668253 0.32999948 0.41668253 0.49281211 0.49281211\n  0.49281211 0.49281211]\n [0.41668253 0.41668253 0.41668253 0.32999948 0.49281211 0.49281211\n  0.49281211 0.49281211]]\n"
          ],
          "output_type": "stream"
        }
      ],
      "source": "import cvxopt as cvx\nimport numpy as np\nimport numpy.matlib\nimport picos as pic\nimport control\n\ndiagBlock \u003d cvx.matrix(np.identity(4))\nzeroesBlock \u003d cvx.matrix(numpy.matlib.zeros((4, 4)))\n\nprint(\u0027Initial conditions are:\u0027)\nprint()\n\nA \u003d cvx.matrix([[zeroesBlock, zeroesBlock], [diagBlock, zeroesBlock]])\nprint(\u0027A \u003d \u0027, A)\n\nB \u003d cvx.matrix([zeroesBlock, diagBlock])\nprint(\u0027B \u003d \u0027, B)\n\nI8 \u003d cvx.matrix(np.identity(8)) #identity matrix of size 8\nI4 \u003d diagBlock #identity matrix of size 4\n\nbeta \u003d 1000    #guaranteed rate of convergence\nmu \u003d 1      #coefficient\nprint(\u0027beta \u003d\u0027, beta, \u0027mu \u003d\u0027, mu)\n\nC \u003d control.ctrb(A, B)\n\nprint(\u0027Controllability matrix rank is:\u0027, np.linalg.matrix_rank(C))\n\nproblem \u003d pic.Problem()\n\nA \u003d pic.new_param(\u0027A\u0027, A)\nB \u003d pic.new_param(\u0027B\u0027, B)\nI8 \u003d pic.new_param(\u0027I8\u0027, I8)\nI4 \u003d pic.new_param(\u0027I4\u0027, I4)\nbeta \u003d pic.new_param(\u0027beta\u0027, beta)\nmu \u003d pic.new_param(\u0027mu\u0027, mu)\n\nP \u003d problem.add_variable(name\u003d\u0027P\u0027, size\u003d(8, 8), vtype\u003d\u0027symmetric\u0027)\nY \u003d problem.add_variable(name\u003d\u0027Y\u0027, size\u003d(4, 8))\n\nproblem.add_constraint(((A*P + P*A.T + B*Y + Y.T*B.T \u0026 P) // (P \u0026 -I8/beta)) \u003c\u003d 0, \u0027first_constr\u0027)\nproblem.add_constraint(((A*P + P*A.T + mu*(B*Y + Y.T*B.T) \u0026 P) // (P \u0026 -I8/beta)) \u003c\u003d 0, \u0027second_constr\u0027)\nproblem.add_constraint(((P \u0026 Y.T) // (Y \u0026 I4/(mu*mu))) \u003e\u003d 0, \u0027third_constr\u0027)\n\nproblem.set_objective(\u0027max\u0027, \u0027I\u0027|P)\n\nprint(problem)\nproblem.solve(verbose\u003d0, solver\u003d\u0027cvxopt\u0027)\n\nprint()\nprint(\u0027The optimal P is:\u0027)\nprint(P)\nprint(\u0027The optimal Y is:\u0027)\nprint(Y)\n\nP \u003d np.array(P.value)\nY \u003d np.array(Y.value)\n\nP_inv \u003d np.linalg.inv(P)\n\nprint(\u0027Inverse P is:\u0027)\nprint(P_inv)\n\nprint(\u0027Optimal K is:\u0027)\nprint(np.dot(Y, P_inv))"
    }
  ],
  "metadata": {
    "language_info": {
      "codemirror_mode": {
        "name": "ipython",
        "version": 2
      },
      "file_extension": ".py",
      "mimetype": "text/x-python",
      "name": "python",
      "nbconvert_exporter": "python",
      "pygments_lexer": "ipython2",
      "version": "2.7.6"
    },
    "kernelspec": {
      "name": "python3",
      "language": "python",
      "display_name": "Python 3"
    }
  },
  "nbformat": 4,
  "nbformat_minor": 0
}